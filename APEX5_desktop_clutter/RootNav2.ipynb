{
 "cells": [
  {
   "cell_type": "code",
   "execution_count": 1,
   "metadata": {},
   "outputs": [
    {
     "ename": "SyntaxError",
     "evalue": "invalid syntax (<ipython-input-1-d99cdf463318>, line 4)",
     "output_type": "error",
     "traceback": [
      "\u001b[0;36m  File \u001b[0;32m\"<ipython-input-1-d99cdf463318>\"\u001b[0;36m, line \u001b[0;32m4\u001b[0m\n\u001b[0;31m    conda env create -f environment.yml\u001b[0m\n\u001b[0m            ^\u001b[0m\n\u001b[0;31mSyntaxError\u001b[0m\u001b[0;31m:\u001b[0m invalid syntax\n"
     ]
    }
   ],
   "source": [
    "##/Users/drbhomeoffice/Pictures/RootNav-2.0-master\n",
    "##/Users/drbhomeoffice/Pictures/TICTOC_Twist_Aligned/Images_cropped_to_TIFF\n",
    "\n",
    "cd inference\n",
    "conda install -c pytorch pytorch\n",
    "conda env create -f environment.yml\n",
    "conda activate rootnav2\n",
    "##python rootnav.py --model wheat_bluepaper input_directory output_directory\n",
    "python rootnav.py --model wheat_bluepaper /Users/drbhomeoffice/Pictures/TICTOC_Twist_Aligned/Images_cropped_to_TIFF /Users/drbhomeoffice/Pictures/TICTOC_Twist_Aligned/Images_cropped_to_TIFF/TEST"
   ]
  },
  {
   "cell_type": "code",
   "execution_count": 2,
   "metadata": {},
   "outputs": [
    {
     "ename": "ModuleNotFoundError",
     "evalue": "No module named 'CellModeller'",
     "output_type": "error",
     "traceback": [
      "\u001b[0;31m---------------------------------------------------------------------------\u001b[0m",
      "\u001b[0;31mModuleNotFoundError\u001b[0m                       Traceback (most recent call last)",
      "\u001b[0;32m<ipython-input-2-5276f2066287>\u001b[0m in \u001b[0;36m<module>\u001b[0;34m\u001b[0m\n\u001b[1;32m      1\u001b[0m \u001b[0;32mimport\u001b[0m \u001b[0mrandom\u001b[0m\u001b[0;34m\u001b[0m\u001b[0;34m\u001b[0m\u001b[0m\n\u001b[0;32m----> 2\u001b[0;31m \u001b[0;32mfrom\u001b[0m \u001b[0mCellModeller\u001b[0m\u001b[0;34m.\u001b[0m\u001b[0mRegulation\u001b[0m\u001b[0;34m.\u001b[0m\u001b[0mModuleRegulator\u001b[0m \u001b[0;32mimport\u001b[0m \u001b[0mModuleRegulator\u001b[0m\u001b[0;34m\u001b[0m\u001b[0;34m\u001b[0m\u001b[0m\n\u001b[0m\u001b[1;32m      3\u001b[0m \u001b[0;32mfrom\u001b[0m \u001b[0mCellModeller\u001b[0m\u001b[0;34m.\u001b[0m\u001b[0mBiophysics\u001b[0m\u001b[0;34m.\u001b[0m\u001b[0mBacterialModels\u001b[0m\u001b[0;34m.\u001b[0m\u001b[0mCLBacterium\u001b[0m \u001b[0;32mimport\u001b[0m \u001b[0mCLBacterium\u001b[0m\u001b[0;34m\u001b[0m\u001b[0;34m\u001b[0m\u001b[0m\n\u001b[1;32m      4\u001b[0m \u001b[0;32mfrom\u001b[0m \u001b[0mCellModeller\u001b[0m\u001b[0;34m.\u001b[0m\u001b[0mGUI\u001b[0m \u001b[0;32mimport\u001b[0m \u001b[0mRenderers\u001b[0m\u001b[0;34m\u001b[0m\u001b[0;34m\u001b[0m\u001b[0m\n\u001b[1;32m      5\u001b[0m \u001b[0;32mimport\u001b[0m \u001b[0mnumpy\u001b[0m\u001b[0;34m\u001b[0m\u001b[0;34m\u001b[0m\u001b[0m\n",
      "\u001b[0;31mModuleNotFoundError\u001b[0m: No module named 'CellModeller'"
     ]
    }
   ],
   "source": [
    "import random\n",
    "from CellModeller.Regulation.ModuleRegulator import ModuleRegulator\n",
    "from CellModeller.Biophysics.BacterialModels.CLBacterium import CLBacterium\n",
    "from CellModeller.GUI import Renderers\n",
    "import numpy\n",
    "import math\n",
    "\n",
    "def setup(sim):\n",
    "    # Set biophysics module\n",
    "    biophys = CLBacterium(sim, jitter_z=False)\n",
    "\n",
    "    # Set up regulation module\n",
    "    regul = ModuleRegulator(sim, sim.moduleName)\t\n",
    "    # Only biophys and regulation\n",
    "    sim.init(biophys, regul, None, None)\n",
    " \n",
    "    # Specify the initial cell and its location in the simulation\n",
    "    sim.addCell(cellType=0, pos=(0,0,0), dir=(1,0,0))\n",
    "\n",
    "    # Add some objects to draw the models\n",
    "    therenderer = Renderers.GLBacteriumRenderer(sim)\n",
    "    sim.addRenderer(therenderer)\n",
    "    \n",
    "    # Specify how often data is saved\n",
    "    sim.pickleSteps = 100\n",
    "\n",
    "def init(cell):\n",
    "    # Specify mean and distribution of initial cell size\n",
    "    cell.targetVol = 3.5 + random.uniform(0.0,0.5)\n",
    "    # Specify growth rate of cells\n",
    "    cell.growthRate = 1.0\n",
    "    cell.color = (0.0,1.0,0.0)\n",
    "\n",
    "def update(cells):\n",
    "    #Iterate through each cell and flag cells that reach target size for division\n",
    "    for (id, cell) in cells.items():\n",
    "        if cell.volume > cell.targetVol:\n",
    "            cell.divideFlag = True\n",
    "\n",
    "def divide(parent, d1, d2):\n",
    "    # Specify target cell size that triggers cell division\n",
    "    d1.targetVol = 3.5 + random.uniform(0.0,0.5)\n",
    "    d2.targetVol = 3.5 + random.uniform(0.0,0.5)"
   ]
  },
  {
   "cell_type": "code",
   "execution_count": null,
   "metadata": {},
   "outputs": [],
   "source": []
  }
 ],
 "metadata": {
  "kernelspec": {
   "display_name": "Python 3",
   "language": "python",
   "name": "python3"
  },
  "language_info": {
   "codemirror_mode": {
    "name": "ipython",
    "version": 3
   },
   "file_extension": ".py",
   "mimetype": "text/x-python",
   "name": "python",
   "nbconvert_exporter": "python",
   "pygments_lexer": "ipython3",
   "version": "3.7.4"
  }
 },
 "nbformat": 4,
 "nbformat_minor": 4
}
